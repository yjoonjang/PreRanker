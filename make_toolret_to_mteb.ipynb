{
 "cells": [
  {
   "cell_type": "markdown",
   "metadata": {},
   "source": [
    "## Convert ToolRet dataset into MTEB format"
   ]
  },
  {
   "cell_type": "code",
   "execution_count": 1,
   "metadata": {},
   "outputs": [
    {
     "name": "stderr",
     "output_type": "stream",
     "text": [
      "/mnt/raid6/yjoonjang/miniconda3/envs/preranker-deploy/lib/python3.10/site-packages/tqdm/auto.py:21: TqdmWarning: IProgress not found. Please update jupyter and ipywidgets. See https://ipywidgets.readthedocs.io/en/stable/user_install.html\n",
      "  from .autonotebook import tqdm as notebook_tqdm\n"
     ]
    }
   ],
   "source": [
    "import os\n",
    "from tqdm import tqdm\n",
    "from datasets import load_dataset, concatenate_datasets\n",
    "\n",
    "tasks = ['reversechain', 'gorilla-huggingface', 'tool-be-honest', 'toolbench', 'rotbench', 'gpt4tools', 'apibank', 'gta', 'metatool', 'toolemu', 'taskbench-multimedia', 'craft-math-algebra', 'toollens', 'autotools-weather', 'gorilla-tensor', 'ultratool', 'autotools-music', 't-eval-step', 'craft-vqa', 'mnms', 't-eval-dialog', 'restgpt-spotify', 'toolbench-sam', 'toolace', 'toolink', 'craft-tabmwp', 'gorilla-pytorch', 'tooleyes', 'autotools-food', 'appbench', 'toolalpaca', 'apigen', 'taskbench-daily', 'restgpt-tmdb', 'taskbench-huggingface']"
   ]
  },
  {
   "cell_type": "code",
   "execution_count": 17,
   "metadata": {},
   "outputs": [
    {
     "name": "stderr",
     "output_type": "stream",
     "text": [
      "Generating queries split: 100%|██████████| 500/500 [00:00<00:00, 38684.99 examples/s]\n",
      "Generating queries split: 100%|██████████| 350/350 [00:00<00:00, 43430.86 examples/s]\n",
      "Generating queries split: 100%|██████████| 550/550 [00:00<00:00, 63833.18 examples/s]\n",
      "Generating queries split: 100%|██████████| 32/32 [00:00<00:00, 5346.68 examples/s]\n",
      "Generating queries split: 100%|██████████| 14/14 [00:00<00:00, 2338.24 examples/s]\n",
      "Generating queries split: 100%|██████████| 200/200 [00:00<00:00, 31831.70 examples/s]\n",
      "Generating queries split: 100%|██████████| 38/38 [00:00<00:00, 3088.59 examples/s]\n",
      "Generating queries split: 100%|██████████| 40/40 [00:00<00:00, 6293.50 examples/s]\n",
      "Generating queries split: 100%|██████████| 280/280 [00:00<00:00, 31530.19 examples/s]\n",
      "Generating queries split: 100%|██████████| 314/314 [00:00<00:00, 27292.75 examples/s]\n",
      "Generating queries split: 100%|██████████| 11/11 [00:00<00:00, 1071.79 examples/s]\n",
      "Generating queries split: 100%|██████████| 55/55 [00:00<00:00, 8402.97 examples/s]\n",
      "Generating queries split: 100%|██████████| 500/500 [00:00<00:00, 48084.38 examples/s]\n",
      "Generating queries split: 100%|██████████| 32/32 [00:00<00:00, 671.71 examples/s]\n",
      "Generating queries split: 100%|██████████| 50/50 [00:00<00:00, 3197.90 examples/s]\n",
      "Generating queries split: 100%|██████████| 200/200 [00:00<00:00, 22200.89 examples/s]\n",
      "Generating queries split: 100%|██████████| 33/33 [00:00<00:00, 5606.22 examples/s]\n",
      "Generating queries split: 100%|██████████| 50/50 [00:00<00:00, 7044.99 examples/s]\n",
      "Generating queries split: 100%|██████████| 40/40 [00:00<00:00, 2587.84 examples/s]\n",
      "Generating queries split: 100%|██████████| 197/197 [00:00<00:00, 27107.08 examples/s]\n",
      "Generating queries split: 100%|██████████| 1000/1000 [00:00<00:00, 65126.92 examples/s]\n",
      "Generating queries split: 100%|██████████| 497/497 [00:00<00:00, 38962.45 examples/s]\n",
      "Generating queries split: 100%|██████████| 174/174 [00:00<00:00, 21341.31 examples/s]\n",
      "Generating queries split: 100%|██████████| 43/43 [00:00<00:00, 6489.69 examples/s]\n",
      "Generating queries split: 100%|██████████| 22/22 [00:00<00:00, 2381.84 examples/s]\n",
      "Generating queries split: 100%|██████████| 32/32 [00:00<00:00, 4912.44 examples/s]\n",
      "Generating queries split: 100%|██████████| 94/94 [00:00<00:00, 14475.86 examples/s]\n",
      "Generating queries split: 100%|██████████| 1000/1000 [00:00<00:00, 81363.80 examples/s]\n",
      "Generating queries split: 100%|██████████| 40/40 [00:00<00:00, 6110.36 examples/s]\n",
      "Generating queries split: 100%|██████████| 54/54 [00:00<00:00, 2375.83 examples/s]\n",
      "Generating queries split: 100%|██████████| 23/23 [00:00<00:00, 4317.64 examples/s]\n",
      "100%|██████████| 35/35 [01:44<00:00,  2.99s/it]\n"
     ]
    },
    {
     "data": {
      "text/plain": [
       "Dataset({\n",
       "    features: ['id', 'query', 'instruction', 'labels', 'category'],\n",
       "    num_rows: 7961\n",
       "})"
      ]
     },
     "execution_count": 17,
     "metadata": {},
     "output_type": "execute_result"
    }
   ],
   "source": [
    "queries_path = \"mangopy/ToolRet-Queries\"\n",
    "tools_path = \"mangopy/ToolRet-Tools\"\n",
    "\n",
    "total_queries = None\n",
    "for task in tqdm(tasks):\n",
    "\tqueries = load_dataset(queries_path, task, split=\"queries\")\n",
    "\tif total_queries is None:\n",
    "\t\ttotal_queries = queries\n",
    "\telse:\n",
    "\t\ttotal_queries = concatenate_datasets([total_queries, queries])\n",
    "total_queries\n"
   ]
  },
  {
   "cell_type": "code",
   "execution_count": 18,
   "metadata": {},
   "outputs": [
    {
     "data": {
      "text/plain": [
       "{'id': 'reversechain_query_0',\n",
       " 'query': 'What is the weather forecast for the location of the Burning Man Festival on the day it starts?',\n",
       " 'instruction': \"Given a `weather forecast` task, retrieve tools that can determine the weather conditions for an event by first identifying the event's date and location, followed by processing these details to provide the forecast for that specific date and location.\",\n",
       " 'labels': '[{\"id\": \"reversechain_tool_409\", \"doc\": {\"name\": \"FindEventCity\", \"input_params\": {\"event_name\": {\"description\": \"the name of the event\", \"type\": \"String\"}}, \"output_params\": {\"city_name\": {\"description\": \"the name of the city where the event is located\", \"type\": \"String\"}}, \"format\": \"FindEventCity(event_name) -> city_name\", \"description\": \"This API is to find the city location of an event.\"}, \"relevance\": 1}, {\"id\": \"reversechain_tool_410\", \"doc\": {\"name\": \"FindEventDate\", \"input_params\": {\"event_name\": {\"description\": \"the name of the event\", \"type\": \"String\"}}, \"output_params\": {\"date\": {\"description\": \"the date of the event\", \"type\": \"Date\"}}, \"format\": \"FindEventDate(event_name) -> date\", \"description\": \"This API is to find the date of an event.\"}, \"relevance\": 1}, {\"id\": \"reversechain_tool_77\", \"doc\": {\"name\": \"GetWeatherForecast\", \"input_params\": {\"city_name\": {\"description\": \"the name of the city\", \"type\": \"String\"}, \"date\": {\"description\": \"the date for which the weather forecast is required\", \"type\": \"Date\"}}, \"output_params\": {\"weather_forecast\": {\"description\": \"the weather forecast for the specified location and date\", \"type\": \"String\"}}, \"format\": \"GetWeatherForecast(city_name, date) -> weather_forecast\", \"description\": \"This API is to get the weather forecast for a specific location and date.\"}, \"relevance\": 1}]',\n",
       " 'category': 'web'}"
      ]
     },
     "execution_count": 18,
     "metadata": {},
     "output_type": "execute_result"
    }
   ],
   "source": [
    "total_queries[0]"
   ]
  },
  {
   "cell_type": "code",
   "execution_count": 34,
   "metadata": {},
   "outputs": [
    {
     "data": {
      "text/plain": [
       "Dataset({\n",
       "    features: ['_id', 'text'],\n",
       "    num_rows: 7961\n",
       "})"
      ]
     },
     "execution_count": 34,
     "metadata": {},
     "output_type": "execute_result"
    }
   ],
   "source": [
    "total_queries = total_queries.rename_column(\"id\", \"_id\")\n",
    "total_queries = total_queries.rename_column(\"query\", \"text\")\n",
    "total_queries = total_queries.remove_columns([\"instruction\", \"labels\", \"category\"])\n",
    "total_queries\n"
   ]
  },
  {
   "cell_type": "code",
   "execution_count": 2,
   "metadata": {},
   "outputs": [
    {
     "name": "stderr",
     "output_type": "stream",
     "text": [
      "Downloading readme: 100%|██████████| 1.80k/1.80k [00:00<00:00, 7.65kB/s]\n"
     ]
    }
   ],
   "source": [
    "web_tools = load_dataset(\"mangopy/ToolRet-Tools\", \"web\", split=\"tools\")\n",
    "code_tools = load_dataset(\"mangopy/ToolRet-Tools\", \"code\", split=\"tools\")\n",
    "customized_tools = load_dataset(\"mangopy/ToolRet-Tools\", \"customized\", split=\"tools\")"
   ]
  },
  {
   "cell_type": "code",
   "execution_count": 3,
   "metadata": {},
   "outputs": [],
   "source": [
    "from datasets import concatenate_datasets\n",
    "tools_corpus = concatenate_datasets([web_tools, code_tools, customized_tools])"
   ]
  },
  {
   "cell_type": "code",
   "execution_count": 4,
   "metadata": {},
   "outputs": [
    {
     "data": {
      "text/plain": [
       "Dataset({\n",
       "    features: ['id', 'documentation'],\n",
       "    num_rows: 44453\n",
       "})"
      ]
     },
     "execution_count": 4,
     "metadata": {},
     "output_type": "execute_result"
    }
   ],
   "source": [
    "tools_corpus"
   ]
  },
  {
   "cell_type": "code",
   "execution_count": 5,
   "metadata": {},
   "outputs": [
    {
     "data": {
      "text/plain": [
       "Dataset({\n",
       "    features: ['_id', 'text', 'title'],\n",
       "    num_rows: 44453\n",
       "})"
      ]
     },
     "execution_count": 5,
     "metadata": {},
     "output_type": "execute_result"
    }
   ],
   "source": [
    "tools_corpus = tools_corpus.rename_column(\"id\", \"_id\")\n",
    "tools_corpus = tools_corpus.rename_column(\"documentation\", \"text\")\n",
    "tools_corpus = tools_corpus.add_column(\"title\", [\"\"] * len(tools_corpus))\n",
    "tools_corpus"
   ]
  },
  {
   "cell_type": "code",
   "execution_count": 32,
   "metadata": {},
   "outputs": [
    {
     "data": {
      "text/plain": [
       "{'_id': 'ultraTool_tool_0',\n",
       " 'text': '{\"doc_arguments\": {\"type\": \"object\", \"properties\": {\"file_path\": {\"type\": \"string\", \"description\": \"The file path for which to count the number of characters\"}}}, \"name\": \"file_character_count\", \"description\": \"Count the number of characters in a file and return\"}',\n",
       " 'title': ''}"
      ]
     },
     "execution_count": 32,
     "metadata": {},
     "output_type": "execute_result"
    }
   ],
   "source": [
    "tools_corpus[0]"
   ]
  },
  {
   "cell_type": "code",
   "execution_count": 26,
   "metadata": {},
   "outputs": [],
   "source": [
    "import json\n",
    "from datasets import Dataset\n",
    "\n",
    "def convert_to_mteb_format(queries):\n",
    "    mteb_rows = []\n",
    "    \n",
    "    for query in tqdm(queries):\n",
    "        query_id = query[\"id\"]\n",
    "        labels = json.loads(query[\"labels\"])\n",
    "        \n",
    "        for label in labels:\n",
    "            tool_id = label[\"id\"]\n",
    "            relevance = label[\"relevance\"]\n",
    "            \n",
    "            mteb_rows.append({\n",
    "                \"query-id\": query_id,\n",
    "                \"corpus-id\": tool_id,\n",
    "                \"score\": relevance\n",
    "            })\n",
    "    \n",
    "    return Dataset.from_list(mteb_rows)"
   ]
  },
  {
   "cell_type": "code",
   "execution_count": 27,
   "metadata": {},
   "outputs": [
    {
     "name": "stderr",
     "output_type": "stream",
     "text": [
      "100%|██████████| 7961/7961 [00:00<00:00, 14070.27it/s]\n"
     ]
    },
    {
     "data": {
      "text/plain": [
       "Dataset({\n",
       "    features: ['query-id', 'corpus-id', 'score'],\n",
       "    num_rows: 14106\n",
       "})"
      ]
     },
     "execution_count": 27,
     "metadata": {},
     "output_type": "execute_result"
    }
   ],
   "source": [
    "mteb_dataset = convert_to_mteb_format(total_queries)\n",
    "mteb_dataset"
   ]
  },
  {
   "cell_type": "code",
   "execution_count": 29,
   "metadata": {},
   "outputs": [
    {
     "data": {
      "text/plain": [
       "{'query-id': 'reversechain_query_0',\n",
       " 'corpus-id': 'reversechain_tool_410',\n",
       " 'score': 1}"
      ]
     },
     "execution_count": 29,
     "metadata": {},
     "output_type": "execute_result"
    }
   ],
   "source": [
    "mteb_dataset[1]"
   ]
  },
  {
   "cell_type": "code",
   "execution_count": 38,
   "metadata": {},
   "outputs": [
    {
     "name": "stderr",
     "output_type": "stream",
     "text": [
      "Creating parquet from Arrow format: 100%|██████████| 15/15 [00:00<00:00, 1182.54ba/s]\n",
      "Uploading the dataset shards: 100%|██████████| 1/1 [00:02<00:00,  2.68s/it]\n",
      "Creating parquet from Arrow format: 100%|██████████| 8/8 [00:00<00:00, 473.93ba/s]\n",
      "Uploading the dataset shards: 100%|██████████| 1/1 [00:03<00:00,  3.43s/it]\n",
      "Creating parquet from Arrow format: 100%|██████████| 45/45 [00:00<00:00, 424.86ba/s]\n",
      "Uploading the dataset shards: 100%|██████████| 1/1 [00:03<00:00,  3.35s/it]\n"
     ]
    },
    {
     "data": {
      "text/plain": [
       "CommitInfo(commit_url='https://huggingface.co/datasets/yjoonjang/toolret/commit/50e91b691d2a347735bc2c1b4dd235f4047d1984', commit_message='Upload dataset', commit_description='', oid='50e91b691d2a347735bc2c1b4dd235f4047d1984', pr_url=None, repo_url=RepoUrl('https://huggingface.co/datasets/yjoonjang/toolret', endpoint='https://huggingface.co', repo_type='dataset', repo_id='yjoonjang/toolret'), pr_revision=None, pr_num=None)"
      ]
     },
     "execution_count": 38,
     "metadata": {},
     "output_type": "execute_result"
    }
   ],
   "source": [
    "repo_id = \"yjoonjang/toolret\"\n",
    "\n",
    "mteb_dataset.push_to_hub(\n",
    "    repo_id=repo_id,\n",
    "    config_name=\"default\",\n",
    "    split=\"dev\",\n",
    "    data_dir = \"default\"\n",
    ")\n",
    "\n",
    "total_queries.push_to_hub(\n",
    "    repo_id=repo_id,\n",
    "    config_name=\"queries\",\n",
    "\tsplit=\"queries\",\n",
    "\tdata_dir=\"queries\"\n",
    ")\n",
    "\n",
    "tools_corpus.push_to_hub(\n",
    "    repo_id=repo_id,\n",
    "\tconfig_name=\"corpus\",\n",
    "\tsplit=\"corpus\",\n",
    "\tdata_dir=\"corpus\"\n",
    ")"
   ]
  }
 ],
 "metadata": {
  "kernelspec": {
   "display_name": "preranker-deploy",
   "language": "python",
   "name": "python3"
  },
  "language_info": {
   "codemirror_mode": {
    "name": "ipython",
    "version": 3
   },
   "file_extension": ".py",
   "mimetype": "text/x-python",
   "name": "python",
   "nbconvert_exporter": "python",
   "pygments_lexer": "ipython3",
   "version": "3.10.16"
  }
 },
 "nbformat": 4,
 "nbformat_minor": 2
}
